{
 "cells": [
  {
   "cell_type": "code",
   "execution_count": 5,
   "id": "cf1895b9",
   "metadata": {},
   "outputs": [
    {
     "name": "stdout",
     "output_type": "stream",
     "text": [
      "\n",
      "[{\"RoomID\": 101, \"type\": \"2BHK\", \"price\": 1500.0, \"FirstName\": \"John\", \"LastName\": \"Doe\", \"arrivalDate\": \"2025-05-05\", \"departureDay\": \"2025-05-10\", \"booking_price\": 1200.0, \"discount\": 10.0, \"PaymentType\": \"Credit Card\", \"payment_completed\": 1}, {\"RoomID\": 103, \"type\": \"2BHK\", \"price\": 1500.0, \"FirstName\": \"Alice\", \"LastName\": \"Johnson\", \"arrivalDate\": \"2025-05-12\", \"departureDay\": \"2025-05-15\", \"booking_price\": 500.0, \"discount\": 0.0, \"PaymentType\": \"Cash\", \"payment_completed\": 1}, {\"RoomID\": 105, \"type\": \"2BHK\", \"price\": 1500.0, \"FirstName\": \"Bob\", \"LastName\": \"Williams\", \"arrivalDate\": \"2025-05-15\", \"departureDay\": \"2025-05-20\", \"booking_price\": 1000.0, \"discount\": 7.0, \"PaymentType\": \"Debit Card\", \"payment_completed\": 1}]\n",
      "Here are the current\n",
      " guests staying at the hotel:\n",
      "\n",
      "John Doe is staying in Room 10\n",
      "1 (2BHK, Price: 1500.0) from\n",
      " 2025-05-05 to 2025-05-10. The booking price was 120\n",
      "0.0, with a 10.0 discount, paid via Credit Card.\n",
      "Alice Johnson is staying in Room 103 (2BHK,\n",
      " Price: 1500.0) from 2025-05-12 to 2025-05-15. The booking price was 500.0, with no\n",
      " discount, paid via Cash.\n",
      "Bob Williams is staying in Room 105 (2BHK, Price: 1500.0) from 2025-05-15 to 20\n",
      "25-05-20. The booking price was 1000.0, with a 7.0 discount, paid via Debit Card.\n"
     ]
    }
   ],
   "source": [
    "from agent import agent\n",
    "from langchain_core.messages import AIMessage, ToolMessage,HumanMessage\n",
    "async for msg, metadata in agent.astream( \n",
    "    {\n",
    "        \"messages\": [\n",
    "            HumanMessage(content=\"Get Current Stays\"),]\n",
    "    },\n",
    "    # highlight-next-line\n",
    "    stream_mode=\"messages\",\n",
    "):\n",
    "    print(msg.content, end = \"\\n\")\n"
   ]
  },
  {
   "cell_type": "code",
   "execution_count": 2,
   "id": "72353a0b",
   "metadata": {},
   "outputs": [
    {
     "data": {
      "text/plain": [
       "[{'RoomID': 101,\n",
       "  'isVacant': 0,\n",
       "  'currentStay': 1,\n",
       "  'type': '2BHK',\n",
       "  'price': 1500.0,\n",
       "  'BookingsID': 1,\n",
       "  'arrivalDate': '2025-05-05',\n",
       "  'departureDay': '2025-05-10',\n",
       "  'FirstName': 'John',\n",
       "  'LastName': 'Doe'}]"
      ]
     },
     "execution_count": 2,
     "metadata": {},
     "output_type": "execute_result"
    }
   ],
   "source": [
    "from tools import get_room_by_id\n",
    "\n",
    "get_room_by_id.run({\"room_id\": \"101\"})"
   ]
  }
 ],
 "metadata": {
  "kernelspec": {
   "display_name": "venv",
   "language": "python",
   "name": "python3"
  },
  "language_info": {
   "codemirror_mode": {
    "name": "ipython",
    "version": 3
   },
   "file_extension": ".py",
   "mimetype": "text/x-python",
   "name": "python",
   "nbconvert_exporter": "python",
   "pygments_lexer": "ipython3",
   "version": "3.13.2"
  }
 },
 "nbformat": 4,
 "nbformat_minor": 5
}
