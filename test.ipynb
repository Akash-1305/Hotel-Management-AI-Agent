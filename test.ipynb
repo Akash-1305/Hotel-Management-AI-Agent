{
 "cells": [
  {
   "cell_type": "code",
   "execution_count": null,
   "id": "cf1895b9",
   "metadata": {},
   "outputs": [
    {
     "name": "stdout",
     "output_type": "stream",
     "text": [
      "I am sorry,\n",
      " I cannot add a room to the database with the available tools. I can add\n",
      " a customer, would you like me to do that? I will need first name, last name\n",
      ", date of birth, identity type and identity string.\n"
     ]
    }
   ],
   "source": [
    "from agent import agent\n",
    "from langchain_core.messages import AIMessage, ToolMessage,HumanMessage\n",
    "async for msg, metadata in agent.astream( \n",
    "    {\n",
    "        \"messages\": [\n",
    "            HumanMessage(content=\"Add a sample customer in any room\"),]\n",
    "    },\n",
    "    # highlight-next-line\n",
    "    stream_mode=\"messages\",\n",
    "):\n",
    "    print(msg.content)\n"
   ]
  },
  {
   "cell_type": "code",
   "execution_count": 2,
   "id": "72353a0b",
   "metadata": {},
   "outputs": [
    {
     "data": {
      "text/plain": [
       "[{'RoomID': 101,\n",
       "  'type': '2BHK',\n",
       "  'price': 1500.0,\n",
       "  'FirstName': 'John',\n",
       "  'LastName': 'Doe',\n",
       "  'arrivalDate': '2025-05-05',\n",
       "  'departureDay': '2025-05-10',\n",
       "  'booking_price': 1200.0,\n",
       "  'discount': 10.0,\n",
       "  'PaymentType': 'Credit Card',\n",
       "  'payment_completed': 1}]"
      ]
     },
     "execution_count": 2,
     "metadata": {},
     "output_type": "execute_result"
    }
   ],
   "source": [
    "from tools import get_current_stays\n",
    "\n",
    "get_current_stays.run((\"3BHK\"))"
   ]
  }
 ],
 "metadata": {
  "kernelspec": {
   "display_name": "venv",
   "language": "python",
   "name": "python3"
  },
  "language_info": {
   "codemirror_mode": {
    "name": "ipython",
    "version": 3
   },
   "file_extension": ".py",
   "mimetype": "text/x-python",
   "name": "python",
   "nbconvert_exporter": "python",
   "pygments_lexer": "ipython3",
   "version": "3.13.2"
  }
 },
 "nbformat": 4,
 "nbformat_minor": 5
}
