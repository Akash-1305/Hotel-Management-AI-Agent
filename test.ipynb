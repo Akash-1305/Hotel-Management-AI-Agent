{
 "cells": [
  {
   "cell_type": "code",
   "execution_count": 3,
   "id": "cf1895b9",
   "metadata": {},
   "outputs": [
    {
     "name": "stdout",
     "output_type": "stream",
     "text": [
      "\n",
      "[{\"success\": true, \"affected_rows\": 1, \"CustomerID\": 8}]\n",
      "OK\n",
      ". I have added Mark Scholman as a customer with CustomerID 8.\n",
      " Now I need to find an available room and payment ID to complete the booking. What\n",
      " type of room you want to book?\n",
      "\n"
     ]
    }
   ],
   "source": [
    "from agent import agent\n",
    "from langchain_core.messages import AIMessage, ToolMessage,HumanMessage\n",
    "async for msg, metadata in agent.astream( \n",
    "    {\n",
    "        \"messages\": [\n",
    "            HumanMessage(content=\"Book a Hotel for Mark Scholman Identity Type Adhar Identity String 123456 and DOB 12-Dec-1992 in any empty room for tommoro to next week\"),]\n",
    "    },\n",
    "    # highlight-next-line\n",
    "    stream_mode=\"messages\",\n",
    "):\n",
    "    print(msg.content, end = \"\\n\")\n"
   ]
  },
  {
   "cell_type": "code",
   "execution_count": 2,
   "id": "72353a0b",
   "metadata": {},
   "outputs": [
    {
     "data": {
      "text/plain": [
       "[{'RoomID': 101,\n",
       "  'isVacant': 0,\n",
       "  'currentStay': 1,\n",
       "  'type': '2BHK',\n",
       "  'price': 1500.0,\n",
       "  'BookingsID': 1,\n",
       "  'arrivalDate': '2025-05-05',\n",
       "  'departureDay': '2025-05-10',\n",
       "  'FirstName': 'John',\n",
       "  'LastName': 'Doe'}]"
      ]
     },
     "execution_count": 2,
     "metadata": {},
     "output_type": "execute_result"
    }
   ],
   "source": [
    "from tools import get_room_by_id\n",
    "\n",
    "get_room_by_id.run({\"room_id\": \"101\"})"
   ]
  }
 ],
 "metadata": {
  "kernelspec": {
   "display_name": "venv",
   "language": "python",
   "name": "python3"
  },
  "language_info": {
   "codemirror_mode": {
    "name": "ipython",
    "version": 3
   },
   "file_extension": ".py",
   "mimetype": "text/x-python",
   "name": "python",
   "nbconvert_exporter": "python",
   "pygments_lexer": "ipython3",
   "version": "3.13.2"
  }
 },
 "nbformat": 4,
 "nbformat_minor": 5
}
